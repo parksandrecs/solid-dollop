{
  "cells": [
    {
      "cell_type": "markdown",
      "metadata": {
        "id": "aq6yQbp-s_vu"
      },
      "source": [
        "<center>\n",
        "    <img src=\"https://gitlab.com/ibm/skills-network/courses/placeholder101/-/raw/master/labs/module%201/images/IDSNlogo.png\" width=\"300\" alt=\"cognitiveclass.ai logo\"  />\n",
        "</center>\n"
      ]
    },
    {
      "cell_type": "markdown",
      "metadata": {
        "id": "zuHnmu5vs_v-"
      },
      "source": [
        "# **Space X  Falcon 9 First Stage Landing Prediction**\n"
      ]
    },
    {
      "cell_type": "markdown",
      "metadata": {
        "id": "Smd4zmxVs_wL"
      },
      "source": [
        "## Web scraping Falcon 9 and Falcon Heavy Launches Records from Wikipedia\n"
      ]
    },
    {
      "cell_type": "markdown",
      "metadata": {
        "id": "dWtlj4ams_wP"
      },
      "source": [
        "Estimated time needed: **40** minutes\n"
      ]
    },
    {
      "cell_type": "markdown",
      "metadata": {
        "id": "r1Mwgo2Es_wU"
      },
      "source": [
        "In this lab, you will be performing web scraping to collect Falcon 9 historical launch records from a Wikipedia page titled `List of Falcon 9 and Falcon Heavy launches`\n",
        "\n",
        "[https://en.wikipedia.org/wiki/List_of_Falcon\\_9\\_and_Falcon_Heavy_launches](https://en.wikipedia.org/wiki/List_of_Falcon\\_9\\_and_Falcon_Heavy_launches?utm_medium=Exinfluencer&utm_source=Exinfluencer&utm_content=000026UJ&utm_term=10006555&utm_id=NA-SkillsNetwork-Channel-SkillsNetworkCoursesIBMDS0321ENSkillsNetwork26802033-2021-01-01)\n"
      ]
    },
    {
      "cell_type": "markdown",
      "metadata": {
        "id": "7n61tWSYs_xt"
      },
      "source": [
        "![](https://cf-courses-data.s3.us.cloud-object-storage.appdomain.cloud/IBM-DS0321EN-SkillsNetwork/labs/module\\_1\\_L2/images/Falcon9\\_rocket_family.svg)\n"
      ]
    },
    {
      "cell_type": "markdown",
      "metadata": {
        "id": "XJC15u5Hs_xu"
      },
      "source": [
        "Falcon 9 first stage will land successfully\n"
      ]
    },
    {
      "cell_type": "markdown",
      "metadata": {
        "id": "Vipdfv2zs_xw"
      },
      "source": [
        "![](https://cf-courses-data.s3.us.cloud-object-storage.appdomain.cloud/IBMDeveloperSkillsNetwork-DS0701EN-SkillsNetwork/api/Images/landing\\_1.gif)\n"
      ]
    },
    {
      "cell_type": "markdown",
      "metadata": {
        "id": "2yY9bvZ-s_xx"
      },
      "source": [
        "Several examples of an unsuccessful landing are shown here:\n"
      ]
    },
    {
      "cell_type": "markdown",
      "metadata": {
        "id": "p3j9k18ps_x0"
      },
      "source": [
        "![](https://cf-courses-data.s3.us.cloud-object-storage.appdomain.cloud/IBMDeveloperSkillsNetwork-DS0701EN-SkillsNetwork/api/Images/crash.gif)\n"
      ]
    },
    {
      "cell_type": "markdown",
      "metadata": {
        "id": "8HFxVuBCs_x4"
      },
      "source": [
        "More specifically, the launch records are stored in a HTML table shown below:\n"
      ]
    },
    {
      "cell_type": "markdown",
      "metadata": {
        "id": "BCrUG5_Us_x6"
      },
      "source": [
        "![](https://cf-courses-data.s3.us.cloud-object-storage.appdomain.cloud/IBM-DS0321EN-SkillsNetwork/labs/module\\_1\\_L2/images/falcon9-launches-wiki.png)\n"
      ]
    },
    {
      "cell_type": "markdown",
      "metadata": {
        "id": "z8IQWJ5rs_x8"
      },
      "source": [
        "## Objectives\n",
        "\n",
        "Web scrap Falcon 9 launch records with `BeautifulSoup`:\n",
        "\n",
        "*   Extract a Falcon 9 launch records HTML table from Wikipedia\n",
        "*   Parse the table and convert it into a Pandas data frame\n"
      ]
    },
    {
      "cell_type": "markdown",
      "metadata": {
        "id": "0r9Jianps_x-"
      },
      "source": [
        "First let's import required packages for this lab\n"
      ]
    },
    {
      "cell_type": "code",
      "execution_count": 1,
      "metadata": {
        "colab": {
          "base_uri": "https://localhost:8080/"
        },
        "id": "JB80dfa-s_x-",
        "outputId": "6e62ccdf-6999-46c6-c343-4f4a3256896e"
      },
      "outputs": [
        {
          "output_type": "stream",
          "name": "stdout",
          "text": [
            "Looking in indexes: https://pypi.org/simple, https://us-python.pkg.dev/colab-wheels/public/simple/\n",
            "Requirement already satisfied: beautifulsoup4 in /usr/local/lib/python3.7/dist-packages (4.6.3)\n",
            "Looking in indexes: https://pypi.org/simple, https://us-python.pkg.dev/colab-wheels/public/simple/\n",
            "Requirement already satisfied: requests in /usr/local/lib/python3.7/dist-packages (2.23.0)\n",
            "Requirement already satisfied: idna<3,>=2.5 in /usr/local/lib/python3.7/dist-packages (from requests) (2.10)\n",
            "Requirement already satisfied: chardet<4,>=3.0.2 in /usr/local/lib/python3.7/dist-packages (from requests) (3.0.4)\n",
            "Requirement already satisfied: urllib3!=1.25.0,!=1.25.1,<1.26,>=1.21.1 in /usr/local/lib/python3.7/dist-packages (from requests) (1.24.3)\n",
            "Requirement already satisfied: certifi>=2017.4.17 in /usr/local/lib/python3.7/dist-packages (from requests) (2022.5.18.1)\n"
          ]
        }
      ],
      "source": [
        "!pip3 install beautifulsoup4\n",
        "!pip3 install requests"
      ]
    },
    {
      "cell_type": "code",
      "execution_count": 2,
      "metadata": {
        "id": "ojml3p3as_yA"
      },
      "outputs": [],
      "source": [
        "import sys\n",
        "\n",
        "import requests\n",
        "from bs4 import BeautifulSoup\n",
        "import re\n",
        "import unicodedata\n",
        "import pandas as pd"
      ]
    },
    {
      "cell_type": "markdown",
      "metadata": {
        "id": "VmmBM8s0s_yB"
      },
      "source": [
        "and we will provide some helper functions for you to process web scraped HTML table\n"
      ]
    },
    {
      "cell_type": "code",
      "execution_count": 3,
      "metadata": {
        "id": "fT3ETDPps_yC"
      },
      "outputs": [],
      "source": [
        "def date_time(table_cells):\n",
        "    \"\"\"\n",
        "    This function returns the data and time from the HTML  table cell\n",
        "    Input: the  element of a table data cell extracts extra row\n",
        "    \"\"\"\n",
        "    return [data_time.strip() for data_time in list(table_cells.strings)][0:2]\n",
        "\n",
        "def booster_version(table_cells):\n",
        "    \"\"\"\n",
        "    This function returns the booster version from the HTML  table cell \n",
        "    Input: the  element of a table data cell extracts extra row\n",
        "    \"\"\"\n",
        "    out=''.join([booster_version for i,booster_version in enumerate( table_cells.strings) if i%2==0][0:-1])\n",
        "    return out\n",
        "\n",
        "def landing_status(table_cells):\n",
        "    \"\"\"\n",
        "    This function returns the landing status from the HTML table cell \n",
        "    Input: the  element of a table data cell extracts extra row\n",
        "    \"\"\"\n",
        "    out=[i for i in table_cells.strings][0]\n",
        "    return out\n",
        "\n",
        "\n",
        "def get_mass(table_cells):\n",
        "    mass=unicodedata.normalize(\"NFKD\", table_cells.text).strip()\n",
        "    if mass:\n",
        "        mass.find(\"kg\")\n",
        "        new_mass=mass[0:mass.find(\"kg\")+2]\n",
        "    else:\n",
        "        new_mass=0\n",
        "    return new_mass\n",
        "\n",
        "\n",
        "def extract_column_from_header(row):\n",
        "    \"\"\"\n",
        "    This function returns the landing status from the HTML table cell \n",
        "    Input: the  element of a table data cell extracts extra row\n",
        "    \"\"\"\n",
        "    if (row.br):\n",
        "        row.br.extract()\n",
        "    if row.a:\n",
        "        row.a.extract()\n",
        "    if row.sup:\n",
        "        row.sup.extract()\n",
        "        \n",
        "    colunm_name = ' '.join(row.contents)\n",
        "    \n",
        "    # Filter the digit and empty names\n",
        "    if not(colunm_name.strip().isdigit()):\n",
        "        colunm_name = colunm_name.strip()\n",
        "        return colunm_name    \n"
      ]
    },
    {
      "cell_type": "markdown",
      "metadata": {
        "id": "FdY0bN2ds_yD"
      },
      "source": [
        "To keep the lab tasks consistent, you will be asked to scrape the data from a snapshot of the  `List of Falcon 9 and Falcon Heavy launches` Wikipage updated on\n",
        "`9th June 2021`\n"
      ]
    },
    {
      "cell_type": "code",
      "execution_count": 4,
      "metadata": {
        "id": "ZpLwywAhs_yE"
      },
      "outputs": [],
      "source": [
        "static_url = \"https://en.wikipedia.org/w/index.php?title=List_of_Falcon_9_and_Falcon_Heavy_launches&oldid=1027686922\""
      ]
    },
    {
      "cell_type": "markdown",
      "metadata": {
        "id": "yCXRfGHds_yI"
      },
      "source": [
        "Next, request the HTML page from the above URL and get a `response` object\n"
      ]
    },
    {
      "cell_type": "markdown",
      "metadata": {
        "id": "zaWnVozrs_yJ"
      },
      "source": [
        "### TASK 1: Request the Falcon9 Launch Wiki page from its URL\n"
      ]
    },
    {
      "cell_type": "markdown",
      "metadata": {
        "id": "IhMzm5Q0s_yJ"
      },
      "source": [
        "First, let's perform an HTTP GET method to request the Falcon9 Launch HTML page, as an HTTP response.\n"
      ]
    },
    {
      "cell_type": "code",
      "execution_count": 5,
      "metadata": {
        "id": "Tdo5jPejs_yK"
      },
      "outputs": [],
      "source": [
        "# use requests.get() method with the provided static_url\n",
        "requests.get(static_url)\n",
        "# assign the response to a object\n",
        "html_text = requests.get(static_url).text"
      ]
    },
    {
      "cell_type": "markdown",
      "metadata": {
        "id": "7MPqhwF5s_yK"
      },
      "source": [
        "Create a `BeautifulSoup` object from the HTML `response`\n"
      ]
    },
    {
      "cell_type": "code",
      "execution_count": 6,
      "metadata": {
        "id": "1cLY2a4ds_yK"
      },
      "outputs": [],
      "source": [
        "# Use BeautifulSoup() to create a BeautifulSoup object from a response text content\n",
        "soup = BeautifulSoup(html_text, 'html.parser')"
      ]
    },
    {
      "cell_type": "markdown",
      "metadata": {
        "id": "PZlTn7DBs_yL"
      },
      "source": [
        "Print the page title to verify if the `BeautifulSoup` object was created properly\n"
      ]
    },
    {
      "cell_type": "code",
      "execution_count": 17,
      "metadata": {
        "colab": {
          "base_uri": "https://localhost:8080/"
        },
        "id": "-El8TitMs_yL",
        "outputId": "3b234431-1c60-4a8d-ae71-e613e4ec40de"
      },
      "outputs": [
        {
          "output_type": "execute_result",
          "data": {
            "text/plain": [
              "<title>List of Falcon 9 and Falcon Heavy launches - Wikipedia</title>"
            ]
          },
          "metadata": {},
          "execution_count": 17
        }
      ],
      "source": [
        "# Use soup.title attribute\n",
        "soup.title"
      ]
    },
    {
      "cell_type": "markdown",
      "metadata": {
        "id": "J2xmzKT5s_yL"
      },
      "source": [
        "### TASK 2: Extract all column/variable names from the HTML table header\n"
      ]
    },
    {
      "cell_type": "markdown",
      "metadata": {
        "id": "-NqHWRpSs_yL"
      },
      "source": [
        "Next, we want to collect all relevant column names from the HTML table header\n"
      ]
    },
    {
      "cell_type": "markdown",
      "metadata": {
        "id": "xhLqWMuSs_yM"
      },
      "source": [
        "Let's try to find all tables on the wiki page first. If you need to refresh your memory about `BeautifulSoup`, please check the external reference link towards the end of this lab\n"
      ]
    },
    {
      "cell_type": "code",
      "execution_count": 18,
      "metadata": {
        "id": "Amc93g3fs_yM"
      },
      "outputs": [],
      "source": [
        "# Use the find_all function in the BeautifulSoup object, with element type `table`\n",
        "# Assign the result to a list called `html_tables`\n",
        "html_tables = soup.find_all('table')"
      ]
    },
    {
      "cell_type": "markdown",
      "metadata": {
        "id": "Q9L8unT7s_yM"
      },
      "source": [
        "Starting from the third table is our target table contains the actual launch records.\n"
      ]
    },
    {
      "cell_type": "code",
      "execution_count": 19,
      "metadata": {
        "id": "8BHbfTr1s_yM",
        "colab": {
          "base_uri": "https://localhost:8080/"
        },
        "outputId": "7074b13f-64ea-4e69-e1ff-a269b96b581d"
      },
      "outputs": [
        {
          "output_type": "stream",
          "name": "stdout",
          "text": [
            "<table class=\"wikitable plainrowheaders collapsible\" style=\"width: 100%;\">\n",
            "<tbody><tr>\n",
            "<th scope=\"col\">Flight No.\n",
            "</th>\n",
            "<th scope=\"col\">Date and<br/>time (<a href=\"/wiki/Coordinated_Universal_Time\" title=\"Coordinated Universal Time\">UTC</a>)\n",
            "</th>\n",
            "<th scope=\"col\"><a href=\"/wiki/List_of_Falcon_9_first-stage_boosters\" title=\"List of Falcon 9 first-stage boosters\">Version,<br/>Booster</a> <sup class=\"reference\" id=\"cite_ref-booster_11-0\"><a href=\"#cite_note-booster-11\">[b]</a></sup>\n",
            "</th>\n",
            "<th scope=\"col\">Launch site\n",
            "</th>\n",
            "<th scope=\"col\">Payload<sup class=\"reference\" id=\"cite_ref-Dragon_12-0\"><a href=\"#cite_note-Dragon-12\">[c]</a></sup>\n",
            "</th>\n",
            "<th scope=\"col\">Payload mass\n",
            "</th>\n",
            "<th scope=\"col\">Orbit\n",
            "</th>\n",
            "<th scope=\"col\">Customer\n",
            "</th>\n",
            "<th scope=\"col\">Launch<br/>outcome\n",
            "</th>\n",
            "<th scope=\"col\"><a href=\"/wiki/Falcon_9_first-stage_landing_tests\" title=\"Falcon 9 first-stage landing tests\">Booster<br/>landing</a>\n",
            "</th></tr>\n",
            "<tr>\n",
            "<th rowspan=\"2\" scope=\"row\" style=\"text-align:center;\">1\n",
            "</th>\n",
            "<td>\n"
          ]
        }
      ],
      "source": [
        "# Let's print the third table and check its content\n",
        "first_launch_table = html_tables[2]\n",
        "print(str(first_launch_table)[:1000])\n"
      ]
    },
    {
      "cell_type": "markdown",
      "metadata": {
        "id": "UX3FFtLVs_yM"
      },
      "source": [
        "You should able to see the columns names embedded in the table header elements `<th>` as follows:\n"
      ]
    },
    {
      "cell_type": "markdown",
      "metadata": {
        "id": "sKtez-cts_yN"
      },
      "source": [
        "```\n",
        "<tr>\n",
        "<th scope=\"col\">Flight No.\n",
        "</th>\n",
        "<th scope=\"col\">Date and<br/>time (<a href=\"/wiki/Coordinated_Universal_Time\" title=\"Coordinated Universal Time\">UTC</a>)\n",
        "</th>\n",
        "<th scope=\"col\"><a href=\"/wiki/List_of_Falcon_9_first-stage_boosters\" title=\"List of Falcon 9 first-stage boosters\">Version,<br/>Booster</a> <sup class=\"reference\" id=\"cite_ref-booster_11-0\"><a href=\"#cite_note-booster-11\">[b]</a></sup>\n",
        "</th>\n",
        "<th scope=\"col\">Launch site\n",
        "</th>\n",
        "<th scope=\"col\">Payload<sup class=\"reference\" id=\"cite_ref-Dragon_12-0\"><a href=\"#cite_note-Dragon-12\">[c]</a></sup>\n",
        "</th>\n",
        "<th scope=\"col\">Payload mass\n",
        "</th>\n",
        "<th scope=\"col\">Orbit\n",
        "</th>\n",
        "<th scope=\"col\">Customer\n",
        "</th>\n",
        "<th scope=\"col\">Launch<br/>outcome\n",
        "</th>\n",
        "<th scope=\"col\"><a href=\"/wiki/Falcon_9_first-stage_landing_tests\" title=\"Falcon 9 first-stage landing tests\">Booster<br/>landing</a>\n",
        "</th></tr>\n",
        "```\n"
      ]
    },
    {
      "cell_type": "markdown",
      "metadata": {
        "id": "GBDSIpYGs_yN"
      },
      "source": [
        "Next, we just need to iterate through the `<th>` elements and apply the provided `extract_column_from_header()` to extract column name one by one\n"
      ]
    },
    {
      "cell_type": "code",
      "execution_count": 20,
      "metadata": {
        "id": "G5dyfWThs_yN"
      },
      "outputs": [],
      "source": [
        "column_names = []\n",
        "\n",
        "# Apply find_all() function with `th` element on first_launch_table\n",
        "# Iterate each th element and apply the provided extract_column_from_header() to get a column name\n",
        "# Append the Non-empty column name (`if name is not None and len(name) > 0`) into a list called column_names\n",
        "t = first_launch_table.find_all('th')\n",
        "\n",
        "for element in t:\n",
        "    colName = extract_column_from_header(element)\n",
        "    if colName is not None and len(colName) > 0:\n",
        "        column_names.append(colName)"
      ]
    },
    {
      "cell_type": "markdown",
      "metadata": {
        "id": "kecrAzOxs_yO"
      },
      "source": [
        "Check the extracted column names\n"
      ]
    },
    {
      "cell_type": "code",
      "execution_count": 21,
      "metadata": {
        "id": "BYaR9sCNs_yO",
        "colab": {
          "base_uri": "https://localhost:8080/"
        },
        "outputId": "5a3e81dd-7b80-469a-b6ec-5967ea34879f"
      },
      "outputs": [
        {
          "output_type": "stream",
          "name": "stdout",
          "text": [
            "['Flight No.', 'Date and time ( )', 'Launch site', 'Payload', 'Payload mass', 'Orbit', 'Customer', 'Launch outcome']\n"
          ]
        }
      ],
      "source": [
        "print(column_names)"
      ]
    },
    {
      "cell_type": "markdown",
      "metadata": {
        "id": "0nbFKUWWs_yO"
      },
      "source": [
        "## TASK 3: Create a data frame by parsing the launch HTML tables\n"
      ]
    },
    {
      "cell_type": "markdown",
      "metadata": {
        "id": "EBfca5J9s_yP"
      },
      "source": [
        "We will create an empty dictionary with keys from the extracted column names in the previous task. Later, this dictionary will be converted into a Pandas dataframe\n"
      ]
    },
    {
      "cell_type": "code",
      "execution_count": 22,
      "metadata": {
        "id": "fCLuR-c4s_yP"
      },
      "outputs": [],
      "source": [
        "launch_dict= dict.fromkeys(column_names)\n",
        "\n",
        "# Remove an irrelvant column\n",
        "del launch_dict['Date and time ( )']\n",
        "\n",
        "# Let's initial the launch_dict with each value to be an empty list\n",
        "launch_dict['Flight No.'] = []\n",
        "launch_dict['Launch site'] = []\n",
        "launch_dict['Payload'] = []\n",
        "launch_dict['Payload mass'] = []\n",
        "launch_dict['Orbit'] = []\n",
        "launch_dict['Customer'] = []\n",
        "launch_dict['Launch outcome'] = []\n",
        "# Added some new columns\n",
        "launch_dict['Version Booster']=[]\n",
        "launch_dict['Booster landing']=[]\n",
        "launch_dict['Date']=[]\n",
        "launch_dict['Time']=[]"
      ]
    },
    {
      "cell_type": "markdown",
      "metadata": {
        "id": "VxAn4vW8s_yQ"
      },
      "source": [
        "Next, we just need to fill up the `launch_dict` with launch records extracted from table rows.\n"
      ]
    },
    {
      "cell_type": "markdown",
      "metadata": {
        "id": "jc0Ud_3Ns_yQ"
      },
      "source": [
        "Usually, HTML tables in Wiki pages are likely to contain unexpected annotations and other types of noises, such as reference links `B0004.1[8]`, missing values `N/A [e]`, inconsistent formatting, etc.\n"
      ]
    },
    {
      "cell_type": "markdown",
      "metadata": {
        "id": "q4mvABrFs_yR"
      },
      "source": [
        "To simplify the parsing process, we have provided an incomplete code snippet below to help you to fill up the `launch_dict`. Please complete the following code snippet with TODOs or you can choose to write your own logic to parse all launch tables:\n"
      ]
    },
    {
      "cell_type": "code",
      "execution_count": 24,
      "metadata": {
        "id": "okieQzyys_yR",
        "colab": {
          "base_uri": "https://localhost:8080/",
          "height": 1000
        },
        "outputId": "16db84c7-3fbb-4c71-92d8-972c4664b363"
      },
      "outputs": [
        {
          "output_type": "stream",
          "name": "stdout",
          "text": [
            "F9 v1.0B0003.1\n",
            "F9 v1.0B0004.1\n",
            "F9 v1.0B0005.1\n",
            "F9 v1.0B0006.1\n",
            "F9 v1.0B0007.1\n",
            "F9 v1.1B1003\n",
            "F9 v1.1\n",
            "F9 v1.1\n",
            "F9 v1.1\n",
            "F9 v1.1\n",
            "F9 v1.1\n",
            "F9 v1.1\n",
            "F9 v1.1\n",
            "F9 v1.1\n",
            "F9 v1.1\n",
            "F9 v1.1\n",
            "F9 v1.1\n",
            "F9 v1.1\n",
            "F9 v1.1\n",
            "F9 FT\n",
            "F9 v1.1\n",
            "F9 FT\n",
            "F9 FT\n",
            "F9 FT\n",
            "F9 FT\n",
            "F9 FT\n",
            "F9 FT\n",
            "F9 FT\n",
            "F9 FT\n",
            "F9 FT\n",
            "F9 FT\n",
            "F9 FT♺\n",
            "F9 FT\n",
            "F9 FT\n",
            "F9 FT\n",
            "F9 FTB1029.2\n",
            "F9 FT\n",
            "F9 FT\n",
            "F9 B4\n",
            "F9 FT\n",
            "F9 B4\n",
            "F9 B4\n",
            "F9 FTB1031.2\n",
            "F9 B4\n",
            "F9 FTB1035.2\n",
            "F9 FTB1036.2\n",
            "F9 B4\n",
            "F9 FTB1032.2\n",
            "F9 FTB1038.2\n",
            "F9 B4\n",
            "F9 B4B1041.2\n",
            "F9 B4B1039.2\n",
            "F9 B4\n",
            "F9 B5B1046.1\n",
            "F9 B4B1043.2\n",
            "F9 B4B1040.2\n",
            "F9 B4B1045.2\n",
            "F9 B5\n",
            "F9 B5B1048\n",
            "F9 B5B1046.2\n",
            "F9 B5\n",
            "F9 B5B1048.2\n",
            "F9 B5B1047.2\n",
            "F9 B5B1046.3\n",
            "F9 B5\n",
            "F9 B5\n",
            "F9 B5B1049.2\n",
            "F9 B5B1048.3\n",
            "F9 B5[268]\n",
            "F9 B5\n",
            "F9 B5B1049.3\n",
            "F9 B5B1051.2\n",
            "F9 B5B1056.2\n",
            "F9 B5B1047.3\n",
            "F9 B5\n",
            "F9 B5\n",
            "F9 B5B1056.3\n",
            "F9 B5\n",
            "F9 B5\n",
            "F9 B5\n",
            "F9 B5\n",
            "F9 B5\n",
            "F9 B5\n",
            "F9 B5\n",
            "F9 B5\n",
            "F9 B5\n",
            "F9 B5\n",
            "F9 B5\n",
            "F9 B5B1058.2\n",
            "F9 B5\n",
            "F9 B5B1049.6\n",
            "F9 B5\n",
            "F9 B5B1060.2\n",
            "F9 B5B1058.3\n",
            "F9 B5B1051.6\n",
            "F9 B5\n",
            "F9 B5\n",
            "F9 B5\n",
            "F9 B5\n",
            "F9 B5 ♺\n",
            "F9 B5 ♺\n",
            "F9 B5 ♺\n",
            "F9 B5 ♺\n",
            "F9 B5\n",
            "F9 B5B1051.8\n",
            "F9 B5B1058.5\n"
          ]
        },
        {
          "output_type": "error",
          "ename": "AttributeError",
          "evalue": "ignored",
          "traceback": [
            "\u001b[0;31m---------------------------------------------------------------------------\u001b[0m",
            "\u001b[0;31mAttributeError\u001b[0m                            Traceback (most recent call last)",
            "\u001b[0;32m<ipython-input-24-e6b6cd394656>\u001b[0m in \u001b[0;36m<module>\u001b[0;34m()\u001b[0m\n\u001b[1;32m     72\u001b[0m             \u001b[0;31m# Customer\u001b[0m\u001b[0;34m\u001b[0m\u001b[0;34m\u001b[0m\u001b[0;34m\u001b[0m\u001b[0m\n\u001b[1;32m     73\u001b[0m             \u001b[0;31m# TODO: Append the customer into launch_dict with key `Customer`\u001b[0m\u001b[0;34m\u001b[0m\u001b[0;34m\u001b[0m\u001b[0;34m\u001b[0m\u001b[0m\n\u001b[0;32m---> 74\u001b[0;31m             \u001b[0mcustomer\u001b[0m \u001b[0;34m=\u001b[0m \u001b[0mrow\u001b[0m\u001b[0;34m[\u001b[0m\u001b[0;36m6\u001b[0m\u001b[0;34m]\u001b[0m\u001b[0;34m.\u001b[0m\u001b[0ma\u001b[0m\u001b[0;34m.\u001b[0m\u001b[0mstring\u001b[0m\u001b[0;34m\u001b[0m\u001b[0;34m\u001b[0m\u001b[0m\n\u001b[0m\u001b[1;32m     75\u001b[0m             \u001b[0;31m#print(customer)\u001b[0m\u001b[0;34m\u001b[0m\u001b[0;34m\u001b[0m\u001b[0;34m\u001b[0m\u001b[0m\n\u001b[1;32m     76\u001b[0m             \u001b[0mlaunch_dict\u001b[0m\u001b[0;34m[\u001b[0m\u001b[0;34m'Customer'\u001b[0m\u001b[0;34m]\u001b[0m\u001b[0;34m.\u001b[0m\u001b[0mappend\u001b[0m\u001b[0;34m(\u001b[0m\u001b[0mcustomer\u001b[0m\u001b[0;34m)\u001b[0m\u001b[0;34m\u001b[0m\u001b[0;34m\u001b[0m\u001b[0m\n",
            "\u001b[0;31mAttributeError\u001b[0m: 'NoneType' object has no attribute 'string'"
          ]
        }
      ],
      "source": [
        "extracted_row = 0\n",
        "#Extract each table \n",
        "for table_number,table in enumerate(soup.find_all('table',\"wikitable plainrowheaders collapsible\")):\n",
        "   # get table row \n",
        "    for rows in table.find_all(\"tr\"):\n",
        "        #check to see if first table heading is as number corresponding to launch a number \n",
        "        if rows.th:\n",
        "            if rows.th.string:\n",
        "                flight_number=rows.th.string.strip()\n",
        "                flag=flight_number.isdigit()\n",
        "        else:\n",
        "            flag=False\n",
        "        #get table element \n",
        "        row=rows.find_all('td')\n",
        "        #if it is number save cells in a dictonary \n",
        "        if flag:\n",
        "            extracted_row += 1\n",
        "            # Flight Number value\n",
        "            # TODO: Append the flight_number into launch_dict with key `Flight No.`\n",
        "            #print(flight_number)\n",
        "            datatimelist=date_time(row[0])\n",
        "            launch_dict['Flight No.'].append(extracted_row)\n",
        "            \n",
        "            # Date value\n",
        "            # TODO: Append the date into launch_dict with key `Date`\n",
        "            date = datatimelist[0].strip(',')\n",
        "            #print(date)\n",
        "            launch_dict['Date'].append(date)\n",
        "            \n",
        "            # Time value\n",
        "            # TODO: Append the time into launch_dict with key `Time`\n",
        "            time = datatimelist[1]\n",
        "            #print(time)\n",
        "            launch_dict['Time'].append(time)\n",
        "            \n",
        "            # Booster version\n",
        "            # TODO: Append the bv into launch_dict with key `Version Booster`\n",
        "            bv=booster_version(row[1])\n",
        "            if not(bv):\n",
        "                bv=row[1].a.string\n",
        "            print(bv)\n",
        "            launch_dict['Version Booster'].append(bv)\n",
        "            \n",
        "            \n",
        "            # Launch Site\n",
        "            # TODO: Append the bv into launch_dict with key `Launch Site`\n",
        "            launch_site = row[2].a.string\n",
        "            #print(launch_site)\n",
        "            launch_dict['Launch site'].append(launch_site)\n",
        "            \n",
        "            # Payload\n",
        "            # TODO: Append the payload into launch_dict with key `Payload`\n",
        "            payload = row[3].a.string\n",
        "            #print(payload)\n",
        "            launch_dict['Payload'].append(payload)\n",
        "            \n",
        "            \n",
        "            # Payload Mass\n",
        "            # TODO: Append the payload_mass into launch_dict with key `Payload mass`\n",
        "            payload_mass = get_mass(row[4])\n",
        "            #print(payload)\n",
        "            launch_dict['Payload mass'].append(payload_mass)\n",
        "            \n",
        "            \n",
        "            # Orbit\n",
        "            # TODO: Append the orbit into launch_dict with key `Orbit`\n",
        "            orbit = row[5].a.string\n",
        "            #print(orbit)\n",
        "            launch_dict['Orbit'].append(orbit)\n",
        "            \n",
        "            \n",
        "            # Customer\n",
        "            # TODO: Append the customer into launch_dict with key `Customer`\n",
        "            customer = row[6].a.string\n",
        "            #print(customer)\n",
        "            launch_dict['Customer'].append(customer)\n",
        "            \n",
        "            # Launch outcome\n",
        "            # TODO: Append the launch_outcome into launch_dict with key `Launch outcome`\n",
        "            launch_outcome = list(row[7].strings)[0]\n",
        "            #print(launch_outcome)\n",
        "            launch_dict['Launch outcome'].append(launch_outcome)\n",
        "            \n",
        "            \n",
        "            # Booster landing\n",
        "            # TODO: Append the launch_outcome into launch_dict with key `Booster landing`\n",
        "            booster_landing = landing_status(row[8])\n",
        "            #print(booster_landing)\n",
        "            launch_dict['Booster landing'].append(booster_landing)"
      ]
    },
    {
      "cell_type": "markdown",
      "metadata": {
        "id": "2QlGRD5As_yR"
      },
      "source": [
        "After you have fill in the parsed launch record values into `launch_dict`, you can create a dataframe from it.\n"
      ]
    },
    {
      "cell_type": "code",
      "execution_count": 26,
      "metadata": {
        "id": "VqM33hMms_yR"
      },
      "outputs": [],
      "source": [
        "df = pd.DataFrame({ key:pd.Series(value) for key, value in launch_dict.items() })"
      ]
    },
    {
      "cell_type": "markdown",
      "metadata": {
        "id": "tnsOsEvXs_yS"
      },
      "source": [
        "We can now export it to a <b>CSV</b> for the next section, but to make the answers consistent and in case you have difficulties finishing this lab.\n",
        "\n",
        "Following labs will be using a provided dataset to make each lab independent.\n"
      ]
    },
    {
      "cell_type": "markdown",
      "metadata": {
        "id": "Dd-l6t3Ks_yS"
      },
      "source": [
        "<code>df.to_csv('spacex_web_scraped.csv', index=False)</code>\n"
      ]
    },
    {
      "cell_type": "code",
      "source": [
        "df.to_csv('spacex_web_scraped.csv', index=False)"
      ],
      "metadata": {
        "id": "VYaXEs03iZaS"
      },
      "execution_count": 27,
      "outputs": []
    },
    {
      "cell_type": "markdown",
      "metadata": {
        "id": "Zb86QqT0s_yS"
      },
      "source": [
        "## Authors\n"
      ]
    },
    {
      "cell_type": "markdown",
      "metadata": {
        "id": "p3Txu0Lks_yS"
      },
      "source": [
        "<a href=\"https://www.linkedin.com/in/yan-luo-96288783/?utm_medium=Exinfluencer&utm_source=Exinfluencer&utm_content=000026UJ&utm_term=10006555&utm_id=NA-SkillsNetwork-Channel-SkillsNetworkCoursesIBMDS0321ENSkillsNetwork26802033-2021-01-01\">Yan Luo</a>\n"
      ]
    },
    {
      "cell_type": "markdown",
      "metadata": {
        "id": "y61FxNf7s_yS"
      },
      "source": [
        "<a href=\"https://www.linkedin.com/in/nayefaboutayoun/?utm_medium=Exinfluencer&utm_source=Exinfluencer&utm_content=000026UJ&utm_term=10006555&utm_id=NA-SkillsNetwork-Channel-SkillsNetworkCoursesIBMDS0321ENSkillsNetwork26802033-2021-01-01\">Nayef Abou Tayoun</a>\n"
      ]
    },
    {
      "cell_type": "markdown",
      "metadata": {
        "id": "JAZcrhUDs_yT"
      },
      "source": [
        "## Change Log\n"
      ]
    },
    {
      "cell_type": "markdown",
      "metadata": {
        "id": "-j-rUie7s_yU"
      },
      "source": [
        "| Date (YYYY-MM-DD) | Version | Changed By | Change Description          |\n",
        "| ----------------- | ------- | ---------- | --------------------------- |\n",
        "| 2021-06-09        | 1.0     | Yan Luo    | Tasks updates               |\n",
        "| 2020-11-10        | 1.0     | Nayef      | Created the initial version |\n"
      ]
    },
    {
      "cell_type": "markdown",
      "metadata": {
        "id": "ykqUBD5Hs_yU"
      },
      "source": [
        "Copyright © 2021 IBM Corporation. All rights reserved.\n"
      ]
    }
  ],
  "metadata": {
    "colab": {
      "name": "jupyter-labs-webscraping.ipynb",
      "provenance": []
    },
    "kernelspec": {
      "display_name": "Python 3",
      "language": "python",
      "name": "python3"
    },
    "language_info": {
      "codemirror_mode": {
        "name": "ipython",
        "version": 3
      },
      "file_extension": ".py",
      "mimetype": "text/x-python",
      "name": "python",
      "nbconvert_exporter": "python",
      "pygments_lexer": "ipython3",
      "version": "3.8.8"
    }
  },
  "nbformat": 4,
  "nbformat_minor": 0
}